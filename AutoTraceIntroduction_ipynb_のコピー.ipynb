{
  "nbformat": 4,
  "nbformat_minor": 0,
  "metadata": {
    "colab": {
      "name": "AutoTraceIntroduction.ipynb のコピー",
      "version": "0.3.2",
      "provenance": [],
      "collapsed_sections": [],
      "toc_visible": true,
      "include_colab_link": true
    },
    "kernelspec": {
      "name": "python3",
      "display_name": "Python 3"
    },
    "accelerator": "GPU"
  },
  "cells": [
    {
      "cell_type": "markdown",
      "metadata": {
        "id": "view-in-github",
        "colab_type": "text"
      },
      "source": [
        "<a href=\"https://colab.research.google.com/github/babayu/yu/blob/master/AutoTraceIntroduction_ipynb_%E3%81%AE%E3%82%B3%E3%83%94%E3%83%BC.ipynb\" target=\"_parent\"><img src=\"https://colab.research.google.com/assets/colab-badge.svg\" alt=\"Open In Colab\"/></a>"
      ]
    },
    {
      "cell_type": "markdown",
      "metadata": {
        "id": "tFapH7r7h4EO",
        "colab_type": "text"
      },
      "source": [
        "# colab版MMD自動トレースへようこそ！(準備編)"
      ]
    },
    {
      "cell_type": "markdown",
      "metadata": {
        "id": "vgDngowWh8bc",
        "colab_type": "text"
      },
      "source": [
        "このノートブックでは、以下をお伝えします。\n",
        "\n",
        "- colab (Google Colaboratory)とは\n",
        "- colabの使い方\n",
        "- エラーが起きた場合\n",
        "- 注意事項\n",
        "- ライセンス"
      ]
    },
    {
      "cell_type": "markdown",
      "metadata": {
        "id": "Atf--UGaiEAj",
        "colab_type": "text"
      },
      "source": [
        "## colab (Google Colaboratory)とは"
      ]
    },
    {
      "cell_type": "markdown",
      "metadata": {
        "id": "nt6wtv5siOEj",
        "colab_type": "text"
      },
      "source": [
        "\n",
        "> Google Colaboratory(略称：colab (コラボ)) は、完全にクラウドで実行される Jupyter ノートブック環境です。設定不要で、無料でご利用になれます。\n",
        "\n",
        "> Jupyter Notebook (ジュピター・ノートブック) とは、ノートブックと呼ばれる形式で作成したプログラムを実行し、実行結果を記録しながら、データの分析作業を進めるためのツールです。\n",
        "\n",
        "Chrome もしくは Firefoxがあれば、後は全部Googleのクラウド上で、MMD自動トレースを実行することができます。\n",
        "実行結果のVMD等は、ご自分のローカル環境にダウンロードする事ができます。\n",
        "\n",
        "使い方に少しクセがあるので、この導入ノートブックで練習してみてから、MMD自動トレースを始めてください。"
      ]
    },
    {
      "cell_type": "markdown",
      "metadata": {
        "id": "-cl6P0V1jDze",
        "colab_type": "text"
      },
      "source": [
        "# colabの使い方"
      ]
    },
    {
      "cell_type": "markdown",
      "metadata": {
        "id": "v0k-zhnUjYR8",
        "colab_type": "text"
      },
      "source": [
        "※ここでは、Jupyter Notebookの操作方法も合わせて「colabの使い方」として扱います。そのため、一部正確な表現ではありません。ご了承下さい。"
      ]
    },
    {
      "cell_type": "markdown",
      "metadata": {
        "id": "h-mK3nMeFMcb",
        "colab_type": "text"
      },
      "source": [
        "## セル（プログラム）の実行"
      ]
    },
    {
      "cell_type": "markdown",
      "metadata": {
        "id": "3SLEmu5ujvZ5",
        "colab_type": "text"
      },
      "source": [
        "colabは「セル」と呼ばれる単位ごとに処理を実行することができます。\n",
        "\n",
        "この下に記載している、薄いグレーの欄の`[ ]`の部分にカーソルを合わせてみてください。\n"
      ]
    },
    {
      "cell_type": "code",
      "metadata": {
        "id": "tfHWt-8dv9nU",
        "colab_type": "code",
        "outputId": "e66f0c4d-51f6-4732-99ac-eae49d8c0572",
        "colab": {
          "base_uri": "https://localhost:8080/",
          "height": 63
        }
      },
      "source": [
        "!echo \"Hello MMD Auto Trace!\""
      ],
      "execution_count": 0,
      "outputs": [
        {
          "output_type": "stream",
          "text": [
            "Hello MMD Auto Trace!\n"
          ],
          "name": "stdout"
        }
      ]
    },
    {
      "cell_type": "markdown",
      "metadata": {
        "id": "JrARkkuKkPpo",
        "colab_type": "text"
      },
      "source": [
        "\n",
        "![セル1](https://drive.google.com/uc?export=view&id=1Iq65BhLYQAx8vBBgdfEsLO0VeOVMjJuS)\n",
        "\n",
        "カーソルを合わせると、三角の再生ボタンが表示されたのがお分かりでしょうか。\n",
        "\n",
        "![セル2](https://drive.google.com/uc?export=view&id=1_542_9rRF48Fr9TkLlERrT-1JCLG6VLU)\n",
        "\n",
        "この三角ボタンをクリックすると、セルが実行され、中に記載されているコードが順次処理されます。\n",
        "\n",
        "※ページを開いて、最初の実行時には、ノートブックの実行許可が求められます。\n",
        "\n",
        "\n",
        "![確認ダイアログ](https://drive.google.com/uc?export=view&id=1PTNx_cZ0YY8HVN4i28F8jALK87X_MnWp)\n",
        "\n",
        "ランタイムリセットのチェックが入っている場合、ランタイムのリセットの確認ダイアログが出ます\n",
        "\n",
        "**※リセットを行うと、環境がすべて破棄されます。インストール済（実行編で準備が終わっている）の場合はチェックを外して下さい。**\n",
        "\n",
        "![ランタイムのリセット](https://drive.google.com/uc?export=view&id=11pJrO0-boAmLH0sheH-G1bshA3goETPq)\n",
        "\n",
        "これでノートブックのセル（プログラム）を実行することができるようになりました。\n",
        "\n",
        "\n",
        "![セル3](https://drive.google.com/uc?export=view&id=19c52CCO_fsT7Xp86ArhUjXtcdaojrBvj)\n",
        "\n",
        "三角の周りの点線の円が回っている場合、そのセルは実行中もしくは実行待ちです。\n",
        "\n",
        "![タブ](https://drive.google.com/uc?export=view&id=1tW5V1O4z5Lftq-dLMn-7kB5lWCTrQ88i)\n",
        "\n",
        "実行中の場合、ブラウザタブのアイコンがグレーになります。\n",
        "\n",
        "![セル4](https://drive.google.com/uc?export=view&id=1PEcmTlmw_Y4PWWBVFsv7OHJS9_d9GEIr)\n",
        "\n",
        "実行結果はセルの下に出力されます。\n",
        "たったこれだけで、プログラムが実行されます。"
      ]
    },
    {
      "cell_type": "markdown",
      "metadata": {
        "id": "tw2ZrQyoFR-s",
        "colab_type": "text"
      },
      "source": [
        "## Googleドライブとの連携（読み込み）"
      ]
    },
    {
      "cell_type": "markdown",
      "metadata": {
        "id": "7uOqWO5KFVOv",
        "colab_type": "text"
      },
      "source": [
        "MMD自動トレースでは、Googleドライブにアップロードした動画を処理します。\n",
        "\n",
        "ここでは、Googleドライブとの連携を実際に確認してみてください。"
      ]
    },
    {
      "cell_type": "markdown",
      "metadata": {
        "id": "Uof2npq1IsQT",
        "colab_type": "text"
      },
      "source": [
        "1．Googleドライブに、\"autotrace\"というフォルダを作成して、\"input.mp4\" という動画ファイルをアップロードしてください。\n",
        "\n",
        "ミソジサラリーマン様\\([@keriwaza](https://twitter.com/keriwaza)\\) より、トレース用素材動画を提供していただきました。ご自由にDLしてお使いください。\n",
        "\n",
        "[足滑りシーン動画(Googleドライブ)](https://drive.google.com/open?id=1kJrq3H8B_LrJDNfR4VA4BhfyrDnjBWvJ)\n",
        "\n",
        "※動画を公開する場合には、クレジットに「`モーション：ミソジサラリーマン様(@keriwaza)`」を追記してください。\n",
        "\n",
        "\n",
        "![アップロード](https://drive.google.com/uc?export=view&id=1gq-m_MUqmLe-I8VywuqWKaSFxMHejiqO)\n",
        "\n",
        "2．下のセルを実行すると、URLと入力欄が表示されます。\n",
        "\n",
        "![Googleドライブ認証](https://drive.google.com/uc?export=view&id=1Mu3AencjMOHc3ZMBxqAaTpBFixb1FZvW)\n",
        "\n",
        "3．URLをクリックすると、新しいタブが開いて、colabと連携するアカウントを聞かれます（聞かれなかった場合、次に進んで下さい）\n",
        "\n",
        "![アカウントの選択](https://drive.google.com/uc?export=view&id=1uS2HtoclPP-d4HF2m9iZ6F2ZuwGB3pXb)\n",
        "\n",
        "4．アカウントを選ぶと、リクエストの許可確認画面が出ますので、アカウントを確認して、「許可」を選択してください。\n",
        "\n",
        "![代替テキスト](https://drive.google.com/uc?export=view&id=1erLq1ZX-MJFFD9K6aWOZYOYzI2-IN_Fw)\n",
        "\n",
        "5．許可すると、認証コードの横にコピーボタンが表示されますので、コピーボタンをクリックして下さい。\n",
        "\n",
        "![認証コード](https://drive.google.com/uc?export=view&id=10fFOn8YSBdq0H5Q9oHDTYln4pWcOhdeI)\n",
        "\n",
        "6．colabの画面に戻ってきて、URLの下の入力欄にカーソルを合わせて、「Ctrl+V」で貼り付けて下さい。文字列は・で表示されます。\n",
        "\n",
        "![認証コード貼り付け](https://drive.google.com/uc?export=view&id=1vmAeCeWzugW211K-uJ4evb9wCrqPnR_Q)\n",
        "\n",
        "7．貼り付けたら、Enterをクリックします。認証には少し時間がかかります。\n",
        "\n",
        "8．下記のように、フォルダの中身とファイルサイズが取得できていれば成功です。\n",
        "\n",
        "![連携結果](https://drive.google.com/uc?export=view&id=1dZu9kkHMBlDovnS4ZHF5lLslVtqddaqt)\n",
        "\n",
        "それでは、下のセルを実行してみてください。"
      ]
    },
    {
      "cell_type": "code",
      "metadata": {
        "id": "z6Qdxi5CGQD3",
        "colab_type": "code",
        "colab": {}
      },
      "source": [
        "from google.colab import drive\n",
        "import os\n",
        "\n",
        "# Googleドライブマウント\n",
        "drive.mount('/gdrive')\n",
        "\n",
        "# 起点ディレクトリ\n",
        "base_path = \"/gdrive/My Drive/autotrace\"\n",
        "\n",
        "! echo \"autotraceフォルダの中身 -----------\"\n",
        "! ls \"$base_path\"\n",
        "! echo \"--------------------\"\n",
        "\n",
        "# 入力動画ファイル\n",
        "input_video = base_path + \"/input.mp4\"\n",
        "\n",
        "print(\"ファイル名: \", os.path.basename(input_video))\n",
        "print(\"ファイルサイズ: \", os.path.getsize(input_video))\n"
      ],
      "execution_count": 0,
      "outputs": []
    },
    {
      "cell_type": "markdown",
      "metadata": {
        "id": "fndC3AcISU02",
        "colab_type": "text"
      },
      "source": [
        "## Googleドライブとの連携（出力）"
      ]
    },
    {
      "cell_type": "markdown",
      "metadata": {
        "id": "3_gAjNdVSZJG",
        "colab_type": "text"
      },
      "source": [
        "1．読み込みに成功したら、次は出力してみましょう。\n",
        "\n",
        "2．下のセルを実行してみてください。"
      ]
    },
    {
      "cell_type": "code",
      "metadata": {
        "id": "TMcUl9vmShcq",
        "colab_type": "code",
        "colab": {}
      },
      "source": [
        "from google.colab import drive\n",
        "import os\n",
        "\n",
        "# Googleドライブマウント\n",
        "drive.mount('/gdrive')\n",
        "\n",
        "# 起点ディレクトリ\n",
        "base_path = \"/gdrive/My Drive/autotrace\"\n",
        "\n",
        "with open(base_path +'/output.txt', 'w') as f:\n",
        "  f.write('Google Drive 出力成功')\n",
        "\n",
        "! echo \"autotraceフォルダの中身 -----------\"\n",
        "! ls -l \"$base_path\"\n",
        "! echo \"--------------------\"\n",
        "\n",
        "! cat \"$base_path/output.txt\"\n"
      ],
      "execution_count": 0,
      "outputs": []
    },
    {
      "cell_type": "markdown",
      "metadata": {
        "id": "s4TyEe9BTXkM",
        "colab_type": "text"
      },
      "source": [
        "3．下の画像のように出力されていれば成功です。\n",
        "\n",
        "![dirve output](https://drive.google.com/uc?export=view&id=1dNEPMLJ20wzP7I7xczSL0Otmu5PHqBWL)\n",
        "\n",
        "4．Googleドライブの \"autotrace\"フォルダを確認すると、\"output.txt\"ファイルが出来ているはずです。\n",
        "\n",
        "![Googleドライブ](https://drive.google.com/uc?export=view&id=1UZ9WxOK8v2j2CTuDFnKknXrtnNv4gWN8)"
      ]
    },
    {
      "cell_type": "markdown",
      "metadata": {
        "id": "GEzYaF9ndNm_",
        "colab_type": "text"
      },
      "source": [
        "**注意点**\n",
        "\n",
        "Googleドライブに保存したデータは「削除」を実行しても、ゴミ箱に移動するだけです。\n",
        "\n",
        "このままでは、容量は減らないので、容量を減らすためには、「ゴミ場を空にする」を実行して下さい。"
      ]
    },
    {
      "cell_type": "markdown",
      "metadata": {
        "id": "0r2HYz1wZLWy",
        "colab_type": "text"
      },
      "source": [
        "## ランタイムの変更"
      ]
    },
    {
      "cell_type": "markdown",
      "metadata": {
        "id": "FBlMHF4FZP80",
        "colab_type": "text"
      },
      "source": [
        "MMD自動トレースでは、GPUを使って処理を行います。\n",
        "\n",
        "そのため、colabのランタイムをGPUに変更します。\n",
        "\n",
        "1．ヘッダの \"ランタイム\"　＞　\"ランタイムのタイプを変更\"　をクリックする\n",
        "\n",
        "![ランタイムの変更](https://drive.google.com/uc?export=view&id=1zTahIzv9HeRnpdZb9YAun7G1dtnI6cGW)\n",
        "\n",
        "2．2つめのプルダウンを選択し、\"GPU\"を選択して、\"保存\"をクリックする\n",
        "\n",
        "※ランタイムのリセットを行ってよいかのダイアログが出た場合、リセットしてください。\n",
        "\n",
        "![GPU](https://drive.google.com/uc?export=view&id=15YcG93WTsu9TEUCCVYfYaVe0P1Y3Irc5)\n",
        "\n",
        "3．切り替えに少し時間がかかります。\n",
        "\n",
        "4．ヘッダの右側のディスク容量欄のところに緑色のチェックが入っていたら、切り替え完了です。\n",
        "\n",
        "![状態](https://drive.google.com/uc?export=view&id=1uKHxgwuDvqGNwxZ8TAKpLBAaqCfM3AH-)\n"
      ]
    },
    {
      "cell_type": "markdown",
      "metadata": {
        "id": "eocqSH2z9Y6o",
        "colab_type": "text"
      },
      "source": [
        "# エラーが起きた場合"
      ]
    },
    {
      "cell_type": "markdown",
      "metadata": {
        "id": "15IIIYPX9eGx",
        "colab_type": "text"
      },
      "source": [
        "エラーが起きた、ファイルが生成されない、など、colabを実行して困ったことがありましたら、以下の手順で報告してください。\n",
        "\n",
        "\n",
        "1～4は、実行編(AutoTrace.ipynb)の場合のみ行ってください。\n",
        "\n",
        "---\n",
        "\n",
        "【実行編(AutoTrace.ipynb)の場合のみ】ここから ------\n",
        "\n",
        "1．画面左上の「＞」をクリックして下さい。目次が開きます。\n",
        "\n",
        "![目次](https://drive.google.com/uc?export=view&id=1x8AdFNmsIQPrtYptBf_NXPRNBJF8ON8z)\n",
        "\n",
        "2．「エラーが起きた場合」の目次を選択してください。\n",
        "\n",
        "![エラー目次](https://drive.google.com/uc?export=view&id=1e8JRC19J1kR691QO1vvx4WrPf_I-b0DY)\n",
        "\n",
        "3.　セルをひとつずつ実行して、自分で解決できないか、ご確認ください。 \n",
        "\n",
        "4．それでも解決できなかった場合、以降の作業を実施してください。\n",
        "\n",
        "【実行編(AutoTrace.ipynb)の場合のみ】ここまで ------\n",
        "\n",
        "---\n",
        "\n",
        "5．ヘッダ　＞　\"ドライブにコピー\"\n",
        "\n",
        "![ドライブにコピー](https://drive.google.com/uc?export=view&id=19hhscZPZgw_4rqh4wF1tq6cJcXDl3p_M)\n",
        "\n",
        "6．Googleドライブの　\"マイドライブ　＞　Colab Notebooks\" に、「○○.ipynbのコピー」が作成されます\n",
        "\n",
        "![Googleドライブ](https://drive.google.com/uc?export=view&id=1NTSW9oqdIhi_OaH7Fo0Kcm8WmpZSvMQE)\n",
        "\n",
        "7．コピーされたファイルを右クリックして、「共有」を選択して下さい。\n",
        "\n",
        "![共有](https://drive.google.com/uc?export=view&id=1QsPD1b4CYwiV5GhCuMXIuZpGYoH1f9Q5)\n",
        "\n",
        "8．以下を入力した後、「送信」ボタンをクリックして下さい。\n",
        " - ユーザー：garnet200521358@gmail.com\n",
        " - 権限：閲覧者\n",
        " - メモ：どのような操作を行ったか\n",
        "\n",
        "※メモを添付されないで送信された場合、お返事はできかねます。すみません。\n",
        "\n",
        "![共有設定](https://drive.google.com/uc?export=view&id=1CRJ43DI2tSS8U3Sj_dqCeOkkH4lX-8PD)\n",
        "\n",
        "9．送信されると、私宛に共有メールが届きます。\n",
        "\n",
        "10．コピーファイルには、あなたが実行した処理の結果も一緒に保存されていますので、それを確認して、お返事いたします。\n",
        "\n",
        "11．共有せずにご相談されたい場合は、Qiitaにてご連絡下さい。"
      ]
    },
    {
      "cell_type": "markdown",
      "metadata": {
        "id": "EF4UQxGfbc1G",
        "colab_type": "text"
      },
      "source": [
        "# 注意事項"
      ]
    },
    {
      "cell_type": "markdown",
      "metadata": {
        "id": "Um9JVs8RbfmT",
        "colab_type": "text"
      },
      "source": [
        " colabは使い捨ての環境です。\n",
        " \n",
        " 一度作成した環境は、12時間後には破棄されます。\n",
        " \n",
        " また、90分無操作の状態が続いても破棄されるようです。\n",
        " \n",
        " 実行編の「インストール完了確認」セクションのセルを実行した結果で、データがなくなっている（No such file or directory）場合、実行編の頭からやり直してください。\n",
        "\n",
        "Googleドライブとの連携も再設定が必要です。\n",
        "\n",
        "ただし、Googleドライブに保存したデータは消えません。"
      ]
    },
    {
      "cell_type": "markdown",
      "metadata": {
        "id": "A0GTK-ACxFfB",
        "colab_type": "text"
      },
      "source": [
        "# ライセンス"
      ]
    },
    {
      "cell_type": "markdown",
      "metadata": {
        "id": "krFuMErb1yKX",
        "colab_type": "text"
      },
      "source": [
        "MMD自動トレースの結果を公開・配布する場合は、必ずライセンスのご確認をお願い致します。Unityの場合も同様です。\n",
        "\n",
        "ライセンスを記載いただけたらとても有難いです。\n",
        "\n",
        "[MMDモーショントレース自動化キットライセンス](https://ch.nicovideo.jp/miu200521358/blomaga/ar1686913)"
      ]
    },
    {
      "cell_type": "markdown",
      "metadata": {
        "id": "GUkkCj5EUJw7",
        "colab_type": "text"
      },
      "source": [
        "導入編は以上となります。お疲れ様でした。\n",
        "\n",
        "それでは、素敵なMMDライフをお楽しみ下さい！Unityもよろしくね！"
      ]
    }
  ]
}